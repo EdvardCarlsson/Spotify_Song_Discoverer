{
 "cells": [
  {
   "cell_type": "markdown",
   "metadata": {},
   "source": [
    "# Code"
   ]
  },
  {
   "cell_type": "markdown",
   "metadata": {},
   "source": [
    "## 1: Spotify API\n",
    "This part takes care of the contact with Spotifys web API, both authorization and searches."
   ]
  },
  {
   "cell_type": "code",
   "execution_count": 1,
   "metadata": {},
   "outputs": [],
   "source": [
    "# Libraries\n",
    "import base64\n",
    "import datetime\n",
    "import requests\n",
    "from urllib.parse import urlencode"
   ]
  },
  {
   "cell_type": "code",
   "execution_count": 2,
   "metadata": {},
   "outputs": [],
   "source": [
    "class SpotifyAPI(object):\n",
    "    access_token = None\n",
    "    access_token_expires = datetime.datetime.now()\n",
    "    access_token_did_expire = True\n",
    "    client_id = None\n",
    "    client_secret = None\n",
    "    token_url = \"https://accounts.spotify.com/api/token\"\n",
    "    \n",
    "    def __init__(self, client_id, client_secret,*args,**kwargs):\n",
    "        super().__init__(*args,**kwargs)\n",
    "        self.client_id = client_id\n",
    "        self.client_secret = client_secret   \n",
    "        \n",
    "    def get_client_credentials(self):\n",
    "        \"\"\"\n",
    "        Returns a base64 encoded string\n",
    "        \"\"\"\n",
    "        client_id = self.client_id\n",
    "        client_secret = self.client_secret\n",
    "        if client_secret == None or client_id == None:\n",
    "            raise Exception(\"You must set client_id and client_secret\")\n",
    "        client_creds = f\"{client_id}:{client_secret}\"\n",
    "        client_creds_b64 = base64.b64encode(client_creds.encode())\n",
    "\n",
    "        return client_creds_b64.decode()\n",
    "        \n",
    "    def get_token_headers(self):\n",
    "        client_creds_b64 = self.get_client_credentials()\n",
    "        \n",
    "        return{\n",
    "                \"Authorization\" : f\"Basic {client_creds_b64}\"            \n",
    "                }\n",
    "\n",
    "    def get_token_data(self):\n",
    "        return{\n",
    "               \"grant_type\" : \"client_credentials\" \n",
    "               }\n",
    "        \n",
    "    def perform_auth(self):     \n",
    "        token_url = self.token_url\n",
    "        token_data = self.get_token_data()\n",
    "        token_headers = self.get_token_headers()\n",
    "        r = requests.post(token_url, data=token_data, headers = token_headers)\n",
    "         \n",
    "        if r.status_code not in range(200,299):\n",
    "             raise Exception(\"Could not authenticate client.\")\n",
    "        \n",
    "        data = r.json()\n",
    "        now = datetime.datetime.now()\n",
    "        access_token = data[\"access_token\"]\n",
    "        expires_in = data[\"expires_in\"]\n",
    "        expires = now + datetime.timedelta(seconds=expires_in)\n",
    "        self.access_token = access_token\n",
    "        self.access_token_expires = expires\n",
    "        self.access_token_did_expire = expires < now\n",
    "        return True   \n",
    "    \n",
    "    def get_access_token(self):\n",
    "        token = self.access_token\n",
    "        expires = self.access_token_expires\n",
    "        now = datetime.datetime.now()\n",
    "        if expires < now:\n",
    "            self.perform_auth()\n",
    "            return self.get_access_token()\n",
    "        elif token == None:\n",
    "            self.perform_auth()\n",
    "            return self.get_access_token()\n",
    "        return token\n",
    "    \n",
    "    def get_resource_header(self):\n",
    "        access_token = self.get_access_token()\n",
    "        headers = {\n",
    "            \"Authorization\": f\"Bearer {access_token}\"\n",
    "            }\n",
    "        return headers\n",
    "    \n",
    "    def get_resource(self, lookup_id, resource_type=\"albums\", version=\"v1\"):\n",
    "        endpoint = f\"https://api.spotify.com/{version}/{resource_type}/{lookup_id}\"\n",
    "        headers = self.get_resource_header()\n",
    "        r = requests.get(endpoint, headers=headers)\n",
    "        if r.status_code not in range(200, 299):\n",
    "            return {}\n",
    "        return r.json()\n",
    "    \n",
    "    def get_album(self, _id):\n",
    "        return self.get_resource(_id, resource_type=\"albums\") \n",
    "\n",
    "    def get_artist(self, _id):\n",
    "        return self.get_resource(_id, resource_type=\"artists\") \n",
    "\n",
    "    def get_audio_features(self, _id):\n",
    "        return self.get_resource(_id, resource_type=\"audio-features\") \n",
    "\n",
    "    def get_track(self, _id):\n",
    "        return self.get_resource(_id, resource_type=\"track\") \n",
    "  \n",
    "    def get_related_artists(self, lookup_id, resource_type=\"artists\", version=\"v1\"):\n",
    "        endpoint = f\"https://api.spotify.com/{version}/{resource_type}/{lookup_id}/related-artists\"\n",
    "        headers = self.get_resource_header()\n",
    "        r = requests.get(endpoint, headers=headers)\n",
    "        if r.status_code not in range(200, 299):\n",
    "            return {}\n",
    "        return r.json()\n",
    "    \n",
    "    def get_artist_top_tracks(self, lookup_id, resource_type=\"artists\", version=\"v1\"):\n",
    "        endpoint = f\"https://api.spotify.com/{version}/{resource_type}/{lookup_id}/top-tracks?country=se\"\n",
    "        headers = self.get_resource_header()\n",
    "        r = requests.get(endpoint, headers=headers)\n",
    "        if r.status_code not in range(200, 299):\n",
    "            return {}\n",
    "        return r.json()\n",
    "    \n",
    "    def base_search(self, query_params):\n",
    "        headers = self.get_resource_header()\n",
    "        endpoint = \"https://api.spotify.com/v1/search\"\n",
    "        lookup_url = f\"{endpoint}?{query_params}\"\n",
    "        r = requests.get(lookup_url, headers=headers)\n",
    "        if r.status_code not in range(200,299):\n",
    "            return {}\n",
    "        return r.json()\n",
    "\n",
    "    def search(self, query=None, operator = None, operator_query=None, search_type=\"artist\"):\n",
    "        if query==None:\n",
    "            raise Exception(\"A query is required.\")\n",
    "        if isinstance(query, dict):\n",
    "                   # letar genom alla key-value-par i dict och gör dem till str\n",
    "            query = \" \".join([f\"{k}:{v}\" for k,v in query.items()])\n",
    "            \n",
    "        if operator != None and operator_query != None:\n",
    "            if operator == \"or\" or operator == \"not\":\n",
    "                operator = operator.upper()\n",
    "                if isinstance(operator_query,str):\n",
    "                    query = f\"{query} {operator} {operator_query}\"\n",
    "                \n",
    "        query_params  = urlencode({\"q\": query, \"type\": search_type.lower()})\n",
    "        #print(query_params)\n",
    " \n",
    "        return self.base_search(query_params)\n"
   ]
  },
  {
   "cell_type": "markdown",
   "metadata": {},
   "source": [
    "## 2: Functions\n",
    "Functions used for creating dataframes of the information gathered from searches."
   ]
  },
  {
   "cell_type": "code",
   "execution_count": 111,
   "metadata": {},
   "outputs": [],
   "source": [
    "def related_artists_10(related_artists):\n",
    "    related = []\n",
    "    for k in range(10):    \n",
    "        artist = {\"Namn\" : related_artists[\"artists\"][k][\"name\"],\n",
    "              \"Genre\": related_artists[\"artists\"][k][\"genres\"],\n",
    "              \"Popularity\":related_artists[\"artists\"][k][\"popularity\"],\n",
    "              \"Id\":related_artists[\"artists\"][k][\"id\"],\n",
    "              \"Top_Songs\": top_tracks(related_artists[\"artists\"][k][\"id\"])\n",
    "            }\n",
    "        related.append(artist)\n",
    "    return related \n",
    "\n",
    "def top_tracks(_id):\n",
    "    rek1 = spotify.get_artist_top_tracks(_id)\n",
    "    dvs = pd.DataFrame(columns={\"Name\",\"Popularity\",\"Id\",\n",
    "                                \"acousticness\", \"danceability\",\"duration_ms\", \"energy\",\n",
    "                                \"instrumentalness\", \"key\", \"liveness\", \"loudness\", \"mode\", \n",
    "                                \"speechiness\",\"tempo\",\"time_signature\",\"valence\"\n",
    "                                }, index = range(len(rek1[\"tracks\"])))\n",
    "    for k in range(len(rek1[\"tracks\"])):\n",
    "        dvs[\"Name\"][k] = rek1[\"tracks\"][k][\"name\"]\n",
    "        dvs[\"Popularity\"][k] = rek1[\"tracks\"][k][\"popularity\"]\n",
    "        dvs[\"Id\"][k] = rek1[\"tracks\"][k][\"id\"]\n",
    "        audio_features = spotify.get_audio_features(dvs[\"Id\"][k])\n",
    "        dvs[\"acousticness\"][k] = audio_features[\"acousticness\"]\n",
    "        dvs[\"danceability\"][k] = audio_features[\"danceability\"]\n",
    "        dvs[\"duration_ms\"][k] = audio_features[\"duration_ms\"]\n",
    "        dvs[\"energy\"][k] = audio_features[\"energy\"]\n",
    "        dvs[\"instrumentalness\"][k] = audio_features[\"instrumentalness\"]\n",
    "        dvs[\"key\"][k] = audio_features[\"key\"]\n",
    "        dvs[\"liveness\"][k] = audio_features[\"liveness\"]\n",
    "        dvs[\"loudness\"][k] = audio_features[\"loudness\"]\n",
    "        dvs[\"mode\"][k] = audio_features[\"mode\"]\n",
    "        dvs[\"speechiness\"][k] = audio_features[\"speechiness\"]\n",
    "        dvs[\"tempo\"][k] = audio_features[\"tempo\"]\n",
    "        dvs[\"time_signature\"][k] = audio_features[\"time_signature\"]\n",
    "        dvs[\"valence\"][k] = audio_features[\"valence\"]\n",
    "        columns_order = [\"Name\",\"Id\",\"Popularity\",\n",
    "                \"acousticness\", \"danceability\",\"duration_ms\", \"energy\",\n",
    "                \"instrumentalness\", \"key\", \"liveness\", \"loudness\", \"mode\", \n",
    "                \"speechiness\",\"tempo\",\"time_signature\",\"valence\"]\n",
    "        dvs=dvs.reindex(columns=columns_order)\n",
    "\n",
    "    return dvs\n",
    "\n",
    "def artist_id(song_name,artist_name):\n",
    "    _id = spotify.search({\"track\": song_name,\"artist\": artist_name},\n",
    "                           search_type =\"track\")[\"tracks\"][\"items\"][0][\"artists\"][0][\"id\"]\n",
    "    artist = [artist_name]\n",
    "    artist.append(_id)\n",
    "    \n",
    "    return artist\n",
    "    \n",
    "def data_from_spotify(mest_lyssnade):  \n",
    "    sample_list = []\n",
    "\n",
    "    for k in range(len(mest_lyssnade)):\n",
    "        start_artist = []\n",
    "        related_artists = spotify.get_related_artists(mest_lyssnade.iloc[k,2])\n",
    "        start_artist = related_artists_10(related_artists)\n",
    "        sample_list.append(start_artist)\n",
    "\n",
    "\n",
    "    sample = pd.DataFrame(columns=sample_list[0][0][\"Top_Songs\"].columns, index = range(1000))\n",
    "    sample[\"Artist\"] = np.nan\n",
    "    sample[\"Genre\"] = np.nan\n",
    "    sample[\"Artist_Popularity\"] = np.nan\n",
    "   \n",
    "    n = 0\n",
    "    m = 0\n",
    "    for i in range(len(sample_list)):\n",
    "        n = 100 * i\n",
    "        for k in range(10):\n",
    "            m = 10 * k\n",
    "            for j in range(10): \n",
    "                if j < len(sample_list[i][k][\"Top_Songs\"]):\n",
    "                    sample.iloc[n+m+j] = sample_list[i][k][\"Top_Songs\"].iloc[j]\n",
    "                    sample[\"Artist\"][n+m+j] = sample_list[i][k][\"Namn\"]\n",
    "                    sample[\"Genre\"][n+m+j] = sample_list[i][k][\"Genre\"]\n",
    "                    sample[\"Artist_Popularity\"][n+m+j] = sample_list[i][k][\"Popularity\"]\n",
    "        m = 0 \n",
    "    sample = sample.dropna(subset=[\"Id\"])\n",
    "    sample = sample.reset_index(drop=True)\n",
    "    \n",
    "    return sample\n",
    "\n",
    "def genres(potential_songs, listened_features, most_listened_songs):\n",
    "    columns_order = [\"Genre\",\"Potential\",\"Listened\",\"Top\"]\n",
    "    potential_songs = potential_songs.reset_index(drop=True)\n",
    "    listened_features = listened_features.reset_index(drop=True)\n",
    "    most_listened_songs = most_listened_songs.reset_index(drop=True)\n",
    "    \n",
    "    genre_sum1 = pd.DataFrame(np.sum(potential_songs.Genre))[0].value_counts()\n",
    "    genre_sum2 = pd.DataFrame(np.sum(listened_features.Genre))[0].value_counts()\n",
    "    genre_sum3 = pd.DataFrame(np.sum(most_listened_songs.Genre))[0].value_counts()\n",
    "\n",
    "    genre_sum = pd.DataFrame(columns={\"Genre\",\"Potential\",\"Listened\",\"Top\"})\n",
    "    genre_sum[\"Genre\"] = genre_sum1.index\n",
    "    genre_sum[\"Potential\"] = genre_sum1.values\n",
    "    for k in range(len(genre_sum2)):\n",
    "        if genre_sum2.index[k] in genre_sum.Genre.values:\n",
    "            contains = pd.DataFrame(genre_sum[genre_sum[\"Genre\"].str.contains(genre_sum2.index[k], na=False)][\"Genre\"])\n",
    "            contains[\"orig_ix\"] = contains.index\n",
    "            contains = contains.reset_index(drop=True)\n",
    "            for i in range(len(contains)):\n",
    "                if contains[\"Genre\"][i] == genre_sum2.index[k]:\n",
    "                    genre_sum[\"Listened\"][contains[\"orig_ix\"][i]] = genre_sum2[k]\n",
    "                    break\n",
    "        else: \n",
    "            append = pd.DataFrame(columns={\"Genre\",\"Potential\",\"Listened\",\"Top\"}, index = range(1))\n",
    "            append.iloc[0] = genre_sum2.index[k], genre_sum2[k], 0, 0\n",
    "            genre_sum = genre_sum.append(append)\n",
    "    genre_sum = genre_sum.reset_index(drop=True)\n",
    "    genre_sum = genre_sum.reindex(columns=columns_order)\n",
    "\n",
    "            \n",
    "           \n",
    "    for k in range(len(genre_sum3)):\n",
    "        contains = pd.DataFrame(genre_sum[genre_sum[\"Genre\"].str.contains(genre_sum3.index[k], na=False)][\"Genre\"])\n",
    "        contains[\"orig_ix\"] = contains.index\n",
    "        contains = contains.reset_index(drop=True)\n",
    "        for i in range(len(contains)):\n",
    "            if contains[\"Genre\"][i] == genre_sum3.index[k]:\n",
    "                genre_sum[\"Top\"][contains[\"orig_ix\"][i]] = genre_sum3[k]\n",
    "                break\n",
    "    \n",
    "      \n",
    "    genre_sum = genre_sum.replace(np.nan,0)     \n",
    "\n",
    "        \n",
    "    return genre_sum\n",
    "\n",
    "\n",
    "def print_confusion_matrix(confusion_matrix, class_names, fontsize=16):\n",
    "\n",
    "    df_cm = pd.DataFrame(\n",
    "        confusion_matrix, index=class_names, columns=class_names, \n",
    "    )\n",
    "    fig = plt.figure(figsize=(6,5))\n",
    "    try:\n",
    "        heatmap = sns.heatmap(df_cm, annot=True, fmt=\"d\",linewidths=.5, center=0)\n",
    "        \n",
    "    except ValueError:\n",
    "        raise ValueError(\"Confusion matrix values must be integers.\")\n",
    "    heatmap.yaxis.set_ticklabels(heatmap.yaxis.get_ticklabels(), rotation=0, ha='right', fontsize=fontsize)\n",
    "    heatmap.xaxis.set_ticklabels(heatmap.xaxis.get_ticklabels(), rotation=45, ha='right', fontsize=fontsize)\n",
    "    heatmap.set_ylim([0,2])\n",
    "    plt.ylabel(\"Actual label\")\n",
    "    plt.xlabel(\"Predicted label\")\n",
    "    \n",
    "    return fig\n"
   ]
  },
  {
   "cell_type": "markdown",
   "metadata": {},
   "source": [
    "## 3: Song Discoverer"
   ]
  },
  {
   "cell_type": "code",
   "execution_count": 4,
   "metadata": {},
   "outputs": [
    {
     "name": "stderr",
     "output_type": "stream",
     "text": [
      "/Users/edvardcarlsson/opt/anaconda3/lib/python3.7/site-packages/statsmodels/tools/_testing.py:19: FutureWarning: pandas.util.testing is deprecated. Use the functions in the public API at pandas.testing instead.\n",
      "  import pandas.util.testing as tm\n"
     ]
    }
   ],
   "source": [
    "import pandas as pd\n",
    "import numpy as np\n",
    "\n",
    "import seaborn as sns\n",
    "import matplotlib.pyplot as plt\n",
    "sns.set_style(\"whitegrid\")\n",
    "\n",
    "import warnings\n",
    "warnings.filterwarnings('ignore')\n",
    "\n",
    "client_id = \"spotify_client_id\"\n",
    "client_secret = \"spotify_client_secret\"\n",
    "spotify = SpotifyAPI(client_id, client_secret)"
   ]
  },
  {
   "cell_type": "markdown",
   "metadata": {},
   "source": [
    "### 3.1: Song Samples"
   ]
  },
  {
   "cell_type": "code",
   "execution_count": 8,
   "metadata": {},
   "outputs": [
    {
     "name": "stdout",
     "output_type": "stream",
     "text": [
      "Number of songs from all time listening history:  2330\n"
     ]
    }
   ],
   "source": [
    "# Import of my entire listening history, since this is the third week I try the Song Discoverer and I only want to base the recomendation on last weeks listens it is important that I seperate them from older listens.\n",
    "listened = pd.read_csv(\"listened_week_32.csv\")\n",
    "\n",
    "# The first row of my data gets assigned as columns, this fixes it\n",
    "listened.loc[-1] = [listened.columns[0], listened.columns[1], listened.columns[2], listened.columns[3]]  # adding a row\n",
    "listened.index = listened.index + 1  # shifting index\n",
    "listened.sort_index(inplace=True) \n",
    "listened.columns = [\"Artist\", \"Album\", \"Song\",\"Date\"]\n",
    "listened = listened.reset_index(drop=True)\n",
    "print(\"Number of songs from all time listening history: \", len(listened))"
   ]
  },
  {
   "cell_type": "code",
   "execution_count": 22,
   "metadata": {},
   "outputs": [
    {
     "data": {
      "text/html": [
       "<div>\n",
       "<style scoped>\n",
       "    .dataframe tbody tr th:only-of-type {\n",
       "        vertical-align: middle;\n",
       "    }\n",
       "\n",
       "    .dataframe tbody tr th {\n",
       "        vertical-align: top;\n",
       "    }\n",
       "\n",
       "    .dataframe thead th {\n",
       "        text-align: right;\n",
       "    }\n",
       "</style>\n",
       "<table border=\"1\" class=\"dataframe\">\n",
       "  <thead>\n",
       "    <tr style=\"text-align: right;\">\n",
       "      <th></th>\n",
       "      <th>Artist</th>\n",
       "      <th>Album</th>\n",
       "      <th>Song</th>\n",
       "      <th>Date</th>\n",
       "    </tr>\n",
       "  </thead>\n",
       "  <tbody>\n",
       "    <tr>\n",
       "      <th>0</th>\n",
       "      <td>ZHU</td>\n",
       "      <td>stardustexhalemarrakechdreams</td>\n",
       "      <td>Dreams</td>\n",
       "      <td>09 Aug 2020 11:51</td>\n",
       "    </tr>\n",
       "    <tr>\n",
       "      <th>1</th>\n",
       "      <td>Ekali</td>\n",
       "      <td>Blame</td>\n",
       "      <td>Blame</td>\n",
       "      <td>09 Aug 2020 11:48</td>\n",
       "    </tr>\n",
       "    <tr>\n",
       "      <th>2</th>\n",
       "      <td>ZHU</td>\n",
       "      <td>stardustexhalemarrakechdreams</td>\n",
       "      <td>Exhale</td>\n",
       "      <td>09 Aug 2020 11:44</td>\n",
       "    </tr>\n",
       "    <tr>\n",
       "      <th>3</th>\n",
       "      <td>ZHU</td>\n",
       "      <td>Nightday (EP)</td>\n",
       "      <td>Cocaine Model</td>\n",
       "      <td>09 Aug 2020 11:40</td>\n",
       "    </tr>\n",
       "    <tr>\n",
       "      <th>4</th>\n",
       "      <td>ZHU</td>\n",
       "      <td>stardustexhalemarrakechdreams</td>\n",
       "      <td>Chasing Marrakech</td>\n",
       "      <td>09 Aug 2020 11:36</td>\n",
       "    </tr>\n",
       "  </tbody>\n",
       "</table>\n",
       "</div>"
      ],
      "text/plain": [
       "  Artist                          Album               Song               Date\n",
       "0    ZHU  stardustexhalemarrakechdreams             Dreams  09 Aug 2020 11:51\n",
       "1  Ekali                          Blame              Blame  09 Aug 2020 11:48\n",
       "2    ZHU  stardustexhalemarrakechdreams             Exhale  09 Aug 2020 11:44\n",
       "3    ZHU                  Nightday (EP)      Cocaine Model  09 Aug 2020 11:40\n",
       "4    ZHU  stardustexhalemarrakechdreams  Chasing Marrakech  09 Aug 2020 11:36"
      ]
     },
     "execution_count": 22,
     "metadata": {},
     "output_type": "execute_result"
    }
   ],
   "source": [
    "# Since I can see the recording timestamp of my plays I can locate with songs are from this week, I'm making a new dataframe of them.\n",
    "nbr_of_songs_this_week = 833\n",
    "listened_last_week = listened[:nbr_of_songs_this_week]\n",
    "\n",
    "# I'm also saving this data to a new csv file for possible future extensions of the project\n",
    "listened_last_week.to_csv(r'week_31.csv')\n",
    "\n",
    "listened_last_week.head()\n",
    "\n"
   ]
  },
  {
   "cell_type": "code",
   "execution_count": 23,
   "metadata": {},
   "outputs": [
    {
     "data": {
      "text/html": [
       "<div>\n",
       "<style scoped>\n",
       "    .dataframe tbody tr th:only-of-type {\n",
       "        vertical-align: middle;\n",
       "    }\n",
       "\n",
       "    .dataframe tbody tr th {\n",
       "        vertical-align: top;\n",
       "    }\n",
       "\n",
       "    .dataframe thead th {\n",
       "        text-align: right;\n",
       "    }\n",
       "</style>\n",
       "<table border=\"1\" class=\"dataframe\">\n",
       "  <thead>\n",
       "    <tr style=\"text-align: right;\">\n",
       "      <th></th>\n",
       "      <th>Plays</th>\n",
       "      <th>Artist</th>\n",
       "      <th>id</th>\n",
       "    </tr>\n",
       "  </thead>\n",
       "  <tbody>\n",
       "    <tr>\n",
       "      <th>0</th>\n",
       "      <td>145</td>\n",
       "      <td>Cheat Codes</td>\n",
       "      <td>7DMveApC7UnC2NPfPvlHSU</td>\n",
       "    </tr>\n",
       "    <tr>\n",
       "      <th>1</th>\n",
       "      <td>128</td>\n",
       "      <td>ZHU</td>\n",
       "      <td>28j8lBWDdDSHSSt5oPlsX2</td>\n",
       "    </tr>\n",
       "    <tr>\n",
       "      <th>2</th>\n",
       "      <td>38</td>\n",
       "      <td>Robin Schulz</td>\n",
       "      <td>3t5xRXzsuZmMDkQzgOX35S</td>\n",
       "    </tr>\n",
       "    <tr>\n",
       "      <th>3</th>\n",
       "      <td>32</td>\n",
       "      <td>CamelPhat</td>\n",
       "      <td>240wlM8vDrf6S4zCyzGj2W</td>\n",
       "    </tr>\n",
       "    <tr>\n",
       "      <th>4</th>\n",
       "      <td>25</td>\n",
       "      <td>Lost Frequencies</td>\n",
       "      <td>7f5Zgnp2spUuuzKplmRkt7</td>\n",
       "    </tr>\n",
       "    <tr>\n",
       "      <th>5</th>\n",
       "      <td>22</td>\n",
       "      <td>Brooks</td>\n",
       "      <td>0XKOBt59crntr7HQXXO8Yz</td>\n",
       "    </tr>\n",
       "    <tr>\n",
       "      <th>6</th>\n",
       "      <td>20</td>\n",
       "      <td>Martin Jensen</td>\n",
       "      <td>4ehtJnVumNf6xzSCDk8aLB</td>\n",
       "    </tr>\n",
       "    <tr>\n",
       "      <th>7</th>\n",
       "      <td>17</td>\n",
       "      <td>Dante Klein</td>\n",
       "      <td>1b4DN8Vj0dnj5cceMFsRYN</td>\n",
       "    </tr>\n",
       "    <tr>\n",
       "      <th>8</th>\n",
       "      <td>17</td>\n",
       "      <td>Chico Rose</td>\n",
       "      <td>5OdVywqKqyCWwfE2fZb7IX</td>\n",
       "    </tr>\n",
       "    <tr>\n",
       "      <th>9</th>\n",
       "      <td>15</td>\n",
       "      <td>Kasabian</td>\n",
       "      <td>11wRdbnoYqRddKBrpHt4Ue</td>\n",
       "    </tr>\n",
       "  </tbody>\n",
       "</table>\n",
       "</div>"
      ],
      "text/plain": [
       "   Plays            Artist                      id\n",
       "0    145       Cheat Codes  7DMveApC7UnC2NPfPvlHSU\n",
       "1    128               ZHU  28j8lBWDdDSHSSt5oPlsX2\n",
       "2     38      Robin Schulz  3t5xRXzsuZmMDkQzgOX35S\n",
       "3     32         CamelPhat  240wlM8vDrf6S4zCyzGj2W\n",
       "4     25  Lost Frequencies  7f5Zgnp2spUuuzKplmRkt7\n",
       "5     22            Brooks  0XKOBt59crntr7HQXXO8Yz\n",
       "6     20     Martin Jensen  4ehtJnVumNf6xzSCDk8aLB\n",
       "7     17       Dante Klein  1b4DN8Vj0dnj5cceMFsRYN\n",
       "8     17        Chico Rose  5OdVywqKqyCWwfE2fZb7IX\n",
       "9     15          Kasabian  11wRdbnoYqRddKBrpHt4Ue"
      ]
     },
     "execution_count": 23,
     "metadata": {},
     "output_type": "execute_result"
    }
   ],
   "source": [
    "# As my algorithm is based on my top 10 most streamed artist from the last week I create a new dataframe with them\n",
    "top_artists = pd.DataFrame(listened_last_week.groupby([\"Artist\"]).count())\n",
    "top_artists[\"Artist\"] = top_artists.index\n",
    "top_artists = top_artists.sort_values(by=\"Date\", ascending=False)\n",
    "top_artists = top_artists.iloc[0:10,2:]\n",
    "top_artists.columns = [\"Plays\", \"Artist\"]\n",
    "top_artists = top_artists.reset_index(drop=True)\n",
    "\n",
    "top_artists[\"id\"] = np.nan\n",
    "for k in range(len(top_artists)):\n",
    "    top_artists[\"id\"][k] = spotify.search({\"artist\": top_artists.iloc[k,1]}, search_type =\"artist\")[\"artists\"][\"items\"][0][\"id\"]\n",
    "top_artists"
   ]
  },
  {
   "cell_type": "code",
   "execution_count": 28,
   "metadata": {},
   "outputs": [
    {
     "data": {
      "text/html": [
       "<div>\n",
       "<style scoped>\n",
       "    .dataframe tbody tr th:only-of-type {\n",
       "        vertical-align: middle;\n",
       "    }\n",
       "\n",
       "    .dataframe tbody tr th {\n",
       "        vertical-align: top;\n",
       "    }\n",
       "\n",
       "    .dataframe thead th {\n",
       "        text-align: right;\n",
       "    }\n",
       "</style>\n",
       "<table border=\"1\" class=\"dataframe\">\n",
       "  <thead>\n",
       "    <tr style=\"text-align: right;\">\n",
       "      <th></th>\n",
       "      <th>Name</th>\n",
       "      <th>Id</th>\n",
       "      <th>Popularity</th>\n",
       "      <th>acousticness</th>\n",
       "      <th>danceability</th>\n",
       "      <th>duration_ms</th>\n",
       "      <th>energy</th>\n",
       "      <th>instrumentalness</th>\n",
       "      <th>key</th>\n",
       "      <th>liveness</th>\n",
       "      <th>loudness</th>\n",
       "      <th>mode</th>\n",
       "      <th>speechiness</th>\n",
       "      <th>tempo</th>\n",
       "      <th>time_signature</th>\n",
       "      <th>valence</th>\n",
       "      <th>Artist</th>\n",
       "      <th>Genre</th>\n",
       "      <th>Artist_Popularity</th>\n",
       "    </tr>\n",
       "  </thead>\n",
       "  <tbody>\n",
       "    <tr>\n",
       "      <th>0</th>\n",
       "      <td>I'm Just Feelin' (Du Du Du)</td>\n",
       "      <td>73ThEGwF5i9GrsXXGyZBRa</td>\n",
       "      <td>78</td>\n",
       "      <td>0.179</td>\n",
       "      <td>0.736</td>\n",
       "      <td>164885</td>\n",
       "      <td>0.657</td>\n",
       "      <td>4.29e-06</td>\n",
       "      <td>0</td>\n",
       "      <td>0.118</td>\n",
       "      <td>-7.512</td>\n",
       "      <td>1</td>\n",
       "      <td>0.0668</td>\n",
       "      <td>115.989</td>\n",
       "      <td>4</td>\n",
       "      <td>0.548</td>\n",
       "      <td>Martin Jensen</td>\n",
       "      <td>[big room, dance pop, danish electronic, edm, ...</td>\n",
       "      <td>77.0</td>\n",
       "    </tr>\n",
       "    <tr>\n",
       "      <th>1</th>\n",
       "      <td>Nobody</td>\n",
       "      <td>0Qew3aYvQPGPjfL7gbe6x1</td>\n",
       "      <td>66</td>\n",
       "      <td>0.269</td>\n",
       "      <td>0.673</td>\n",
       "      <td>211040</td>\n",
       "      <td>0.687</td>\n",
       "      <td>0</td>\n",
       "      <td>6</td>\n",
       "      <td>0.181</td>\n",
       "      <td>-5.295</td>\n",
       "      <td>0</td>\n",
       "      <td>0.0623</td>\n",
       "      <td>96.964</td>\n",
       "      <td>4</td>\n",
       "      <td>0.524</td>\n",
       "      <td>Martin Jensen</td>\n",
       "      <td>[big room, dance pop, danish electronic, edm, ...</td>\n",
       "      <td>77.0</td>\n",
       "    </tr>\n",
       "    <tr>\n",
       "      <th>2</th>\n",
       "      <td>Don't Cry For Me (with Jason Derulo)</td>\n",
       "      <td>5qNYK53oA91QaIC9u7m0oK</td>\n",
       "      <td>61</td>\n",
       "      <td>0.105</td>\n",
       "      <td>0.69</td>\n",
       "      <td>155769</td>\n",
       "      <td>0.587</td>\n",
       "      <td>0</td>\n",
       "      <td>1</td>\n",
       "      <td>0.102</td>\n",
       "      <td>-6.53</td>\n",
       "      <td>0</td>\n",
       "      <td>0.0466</td>\n",
       "      <td>104.046</td>\n",
       "      <td>4</td>\n",
       "      <td>0.278</td>\n",
       "      <td>Martin Jensen</td>\n",
       "      <td>[big room, dance pop, danish electronic, edm, ...</td>\n",
       "      <td>77.0</td>\n",
       "    </tr>\n",
       "    <tr>\n",
       "      <th>3</th>\n",
       "      <td>Day 'N' Nite - Martin Jensen Edit</td>\n",
       "      <td>0ou367q5bmco9pZNxq80iD</td>\n",
       "      <td>72</td>\n",
       "      <td>0.0611</td>\n",
       "      <td>0.766</td>\n",
       "      <td>166200</td>\n",
       "      <td>0.849</td>\n",
       "      <td>0.0809</td>\n",
       "      <td>11</td>\n",
       "      <td>0.0536</td>\n",
       "      <td>-5.42</td>\n",
       "      <td>0</td>\n",
       "      <td>0.0361</td>\n",
       "      <td>125.033</td>\n",
       "      <td>4</td>\n",
       "      <td>0.589</td>\n",
       "      <td>Martin Jensen</td>\n",
       "      <td>[big room, dance pop, danish electronic, edm, ...</td>\n",
       "      <td>77.0</td>\n",
       "    </tr>\n",
       "    <tr>\n",
       "      <th>4</th>\n",
       "      <td>Solo Dance</td>\n",
       "      <td>3R6dPfF2yBO8mHySW1XDAa</td>\n",
       "      <td>60</td>\n",
       "      <td>0.0485</td>\n",
       "      <td>0.746</td>\n",
       "      <td>174933</td>\n",
       "      <td>0.846</td>\n",
       "      <td>0</td>\n",
       "      <td>9</td>\n",
       "      <td>0.195</td>\n",
       "      <td>-2.432</td>\n",
       "      <td>1</td>\n",
       "      <td>0.048</td>\n",
       "      <td>114.955</td>\n",
       "      <td>4</td>\n",
       "      <td>0.403</td>\n",
       "      <td>Martin Jensen</td>\n",
       "      <td>[big room, dance pop, danish electronic, edm, ...</td>\n",
       "      <td>77.0</td>\n",
       "    </tr>\n",
       "  </tbody>\n",
       "</table>\n",
       "</div>"
      ],
      "text/plain": [
       "                                   Name                      Id Popularity  \\\n",
       "0           I'm Just Feelin' (Du Du Du)  73ThEGwF5i9GrsXXGyZBRa         78   \n",
       "1                                Nobody  0Qew3aYvQPGPjfL7gbe6x1         66   \n",
       "2  Don't Cry For Me (with Jason Derulo)  5qNYK53oA91QaIC9u7m0oK         61   \n",
       "3     Day 'N' Nite - Martin Jensen Edit  0ou367q5bmco9pZNxq80iD         72   \n",
       "4                            Solo Dance  3R6dPfF2yBO8mHySW1XDAa         60   \n",
       "\n",
       "  acousticness danceability duration_ms energy instrumentalness key liveness  \\\n",
       "0        0.179        0.736      164885  0.657         4.29e-06   0    0.118   \n",
       "1        0.269        0.673      211040  0.687                0   6    0.181   \n",
       "2        0.105         0.69      155769  0.587                0   1    0.102   \n",
       "3       0.0611        0.766      166200  0.849           0.0809  11   0.0536   \n",
       "4       0.0485        0.746      174933  0.846                0   9    0.195   \n",
       "\n",
       "  loudness mode speechiness    tempo time_signature valence         Artist  \\\n",
       "0   -7.512    1      0.0668  115.989              4   0.548  Martin Jensen   \n",
       "1   -5.295    0      0.0623   96.964              4   0.524  Martin Jensen   \n",
       "2    -6.53    0      0.0466  104.046              4   0.278  Martin Jensen   \n",
       "3    -5.42    0      0.0361  125.033              4   0.589  Martin Jensen   \n",
       "4   -2.432    1       0.048  114.955              4   0.403  Martin Jensen   \n",
       "\n",
       "                                               Genre  Artist_Popularity  \n",
       "0  [big room, dance pop, danish electronic, edm, ...               77.0  \n",
       "1  [big room, dance pop, danish electronic, edm, ...               77.0  \n",
       "2  [big room, dance pop, danish electronic, edm, ...               77.0  \n",
       "3  [big room, dance pop, danish electronic, edm, ...               77.0  \n",
       "4  [big room, dance pop, danish electronic, edm, ...               77.0  "
      ]
     },
     "execution_count": 28,
     "metadata": {},
     "output_type": "execute_result"
    }
   ],
   "source": [
    "# Gathering my sample of potential songs\n",
    "potential_songs = data_from_spotify(top_artists)  \n",
    "potential_songs.head()"
   ]
  },
  {
   "cell_type": "code",
   "execution_count": 25,
   "metadata": {},
   "outputs": [
    {
     "data": {
      "text/html": [
       "<div>\n",
       "<style scoped>\n",
       "    .dataframe tbody tr th:only-of-type {\n",
       "        vertical-align: middle;\n",
       "    }\n",
       "\n",
       "    .dataframe tbody tr th {\n",
       "        vertical-align: top;\n",
       "    }\n",
       "\n",
       "    .dataframe thead th {\n",
       "        text-align: right;\n",
       "    }\n",
       "</style>\n",
       "<table border=\"1\" class=\"dataframe\">\n",
       "  <thead>\n",
       "    <tr style=\"text-align: right;\">\n",
       "      <th></th>\n",
       "      <th>Name</th>\n",
       "      <th>Id</th>\n",
       "      <th>Popularity</th>\n",
       "      <th>acousticness</th>\n",
       "      <th>danceability</th>\n",
       "      <th>duration_ms</th>\n",
       "      <th>energy</th>\n",
       "      <th>instrumentalness</th>\n",
       "      <th>key</th>\n",
       "      <th>liveness</th>\n",
       "      <th>loudness</th>\n",
       "      <th>mode</th>\n",
       "      <th>speechiness</th>\n",
       "      <th>tempo</th>\n",
       "      <th>time_signature</th>\n",
       "      <th>valence</th>\n",
       "      <th>Artist</th>\n",
       "      <th>Genre</th>\n",
       "      <th>Artist_Popularity</th>\n",
       "    </tr>\n",
       "  </thead>\n",
       "  <tbody>\n",
       "    <tr>\n",
       "      <th>0</th>\n",
       "      <td>Dreams</td>\n",
       "      <td>66MGk6BwVMx5O1TJqDAX4Y</td>\n",
       "      <td>54</td>\n",
       "      <td>0.0029</td>\n",
       "      <td>0.521</td>\n",
       "      <td>268044</td>\n",
       "      <td>0.55</td>\n",
       "      <td>0.171</td>\n",
       "      <td>1</td>\n",
       "      <td>0.0955</td>\n",
       "      <td>-6.222</td>\n",
       "      <td>1</td>\n",
       "      <td>0.0709</td>\n",
       "      <td>184.018</td>\n",
       "      <td>4</td>\n",
       "      <td>0.0391</td>\n",
       "      <td>ZHU</td>\n",
       "      <td>[edm, house]</td>\n",
       "      <td>71</td>\n",
       "    </tr>\n",
       "    <tr>\n",
       "      <th>1</th>\n",
       "      <td>Blame</td>\n",
       "      <td>089tprIgsyFSOrZpugamLI</td>\n",
       "      <td>55</td>\n",
       "      <td>0.114</td>\n",
       "      <td>0.624</td>\n",
       "      <td>177152</td>\n",
       "      <td>0.68</td>\n",
       "      <td>6.78e-05</td>\n",
       "      <td>9</td>\n",
       "      <td>0.0614</td>\n",
       "      <td>-7.285</td>\n",
       "      <td>0</td>\n",
       "      <td>0.0421</td>\n",
       "      <td>91.998</td>\n",
       "      <td>4</td>\n",
       "      <td>0.117</td>\n",
       "      <td>Ekali</td>\n",
       "      <td>[bass trap, brostep, canadian electronic, edm,...</td>\n",
       "      <td>60</td>\n",
       "    </tr>\n",
       "    <tr>\n",
       "      <th>2</th>\n",
       "      <td>Exhale</td>\n",
       "      <td>6jKDgvE2pnYWRnj7xZV8zc</td>\n",
       "      <td>49</td>\n",
       "      <td>0.0713</td>\n",
       "      <td>0.751</td>\n",
       "      <td>209767</td>\n",
       "      <td>0.644</td>\n",
       "      <td>0.0807</td>\n",
       "      <td>8</td>\n",
       "      <td>0.0801</td>\n",
       "      <td>-9.235</td>\n",
       "      <td>0</td>\n",
       "      <td>0.124</td>\n",
       "      <td>139.985</td>\n",
       "      <td>4</td>\n",
       "      <td>0.252</td>\n",
       "      <td>ZHU</td>\n",
       "      <td>[edm, house]</td>\n",
       "      <td>71</td>\n",
       "    </tr>\n",
       "    <tr>\n",
       "      <th>3</th>\n",
       "      <td>Chasing Marrakech</td>\n",
       "      <td>50z0HWJg4sqh7H8JHol9jC</td>\n",
       "      <td>49</td>\n",
       "      <td>0.127</td>\n",
       "      <td>0.674</td>\n",
       "      <td>242021</td>\n",
       "      <td>0.705</td>\n",
       "      <td>0.501</td>\n",
       "      <td>5</td>\n",
       "      <td>0.361</td>\n",
       "      <td>-5.335</td>\n",
       "      <td>0</td>\n",
       "      <td>0.0349</td>\n",
       "      <td>153.951</td>\n",
       "      <td>4</td>\n",
       "      <td>0.338</td>\n",
       "      <td>ZHU</td>\n",
       "      <td>[edm, house]</td>\n",
       "      <td>71</td>\n",
       "    </tr>\n",
       "    <tr>\n",
       "      <th>4</th>\n",
       "      <td>Home</td>\n",
       "      <td>3ib6WzOzCgVF2kZsxz9H1v</td>\n",
       "      <td>40</td>\n",
       "      <td>0.302</td>\n",
       "      <td>0.665</td>\n",
       "      <td>209154</td>\n",
       "      <td>0.657</td>\n",
       "      <td>0</td>\n",
       "      <td>9</td>\n",
       "      <td>0.0934</td>\n",
       "      <td>-6.181</td>\n",
       "      <td>1</td>\n",
       "      <td>0.0304</td>\n",
       "      <td>89.995</td>\n",
       "      <td>4</td>\n",
       "      <td>0.332</td>\n",
       "      <td>Jubël</td>\n",
       "      <td>[swedish pop, tropical house]</td>\n",
       "      <td>70</td>\n",
       "    </tr>\n",
       "  </tbody>\n",
       "</table>\n",
       "</div>"
      ],
      "text/plain": [
       "                Name                      Id Popularity acousticness  \\\n",
       "0             Dreams  66MGk6BwVMx5O1TJqDAX4Y         54       0.0029   \n",
       "1              Blame  089tprIgsyFSOrZpugamLI         55        0.114   \n",
       "2             Exhale  6jKDgvE2pnYWRnj7xZV8zc         49       0.0713   \n",
       "3  Chasing Marrakech  50z0HWJg4sqh7H8JHol9jC         49        0.127   \n",
       "4               Home  3ib6WzOzCgVF2kZsxz9H1v         40        0.302   \n",
       "\n",
       "  danceability duration_ms energy instrumentalness key liveness loudness mode  \\\n",
       "0        0.521      268044   0.55            0.171   1   0.0955   -6.222    1   \n",
       "1        0.624      177152   0.68         6.78e-05   9   0.0614   -7.285    0   \n",
       "2        0.751      209767  0.644           0.0807   8   0.0801   -9.235    0   \n",
       "3        0.674      242021  0.705            0.501   5    0.361   -5.335    0   \n",
       "4        0.665      209154  0.657                0   9   0.0934   -6.181    1   \n",
       "\n",
       "  speechiness    tempo time_signature valence Artist  \\\n",
       "0      0.0709  184.018              4  0.0391    ZHU   \n",
       "1      0.0421   91.998              4   0.117  Ekali   \n",
       "2       0.124  139.985              4   0.252    ZHU   \n",
       "3      0.0349  153.951              4   0.338    ZHU   \n",
       "4      0.0304   89.995              4   0.332  Jubël   \n",
       "\n",
       "                                               Genre Artist_Popularity  \n",
       "0                                       [edm, house]                71  \n",
       "1  [bass trap, brostep, canadian electronic, edm,...                60  \n",
       "2                                       [edm, house]                71  \n",
       "3                                       [edm, house]                71  \n",
       "4                      [swedish pop, tropical house]                70  "
      ]
     },
     "execution_count": 25,
     "metadata": {},
     "output_type": "execute_result"
    }
   ],
   "source": [
    "# Gather the song features of \"listened_last_week\"\n",
    "listened_features = pd.DataFrame(index = listened_last_week.index, columns=potential_songs.columns)\n",
    "listened_features[\"Name\"] = listened_last_week[\"Song\"]\n",
    "\n",
    "for k in range(len(listened_last_week)):\n",
    "    \n",
    "    if len(spotify.search({\"track\": listened_last_week.iloc[k,2],\"artist\": listened_last_week.iloc[k,0],\n",
    "                \"album\":listened_last_week.iloc[k,1]}, \n",
    "            search_type =\"track\")[\"tracks\"][\"items\"]) == 0: # If the song is not found\n",
    "        continue\n",
    "    else:\n",
    "        track = spotify.search({\"track\": listened_last_week.iloc[k,2],\"artist\": listened_last_week.iloc[k,0],\n",
    "                \"album\":listened_last_week.iloc[k,1]}, \n",
    "                search_type =\"track\")[\"tracks\"][\"items\"][0]\n",
    "    \n",
    "        listened_features[\"Id\"][k] = track[\"id\"]\n",
    "        listened_features[\"Popularity\"][k] = track[\"popularity\"]\n",
    "        \n",
    "        audio_features = spotify.get_audio_features(track[\"id\"])\n",
    "        listened_features[\"acousticness\"][k] = audio_features[\"acousticness\"]\n",
    "        listened_features[\"danceability\"][k] = audio_features[\"danceability\"]\n",
    "        listened_features[\"duration_ms\"][k] = audio_features[\"duration_ms\"]\n",
    "        listened_features[\"energy\"][k] = audio_features[\"energy\"]\n",
    "        listened_features[\"instrumentalness\"][k] = audio_features[\"instrumentalness\"]\n",
    "        listened_features[\"key\"][k] = audio_features[\"key\"]\n",
    "        listened_features[\"liveness\"][k] = audio_features[\"liveness\"]\n",
    "        listened_features[\"loudness\"][k] = audio_features[\"loudness\"]\n",
    "        listened_features[\"mode\"][k] = audio_features[\"mode\"]\n",
    "        listened_features[\"speechiness\"][k] = audio_features[\"speechiness\"]\n",
    "        listened_features[\"tempo\"][k] = audio_features[\"tempo\"]\n",
    "        listened_features[\"time_signature\"][k] = audio_features[\"time_signature\"]\n",
    "        listened_features[\"valence\"][k] = audio_features[\"valence\"]\n",
    "        \n",
    "        listened_features[\"Artist\"][k] = listened_last_week.iloc[k,0]\n",
    "        artist_id_ = track[\"artists\"][0][\"id\"]\n",
    "        artist_features = spotify.get_artist(artist_id_)\n",
    "        listened_features[\"Genre\"][k]  = artist_features[\"genres\"]\n",
    "        listened_features[\"Artist_Popularity\"][k]  = artist_features[\"popularity\"]\n",
    "\n",
    "# Some songs are not found through my search. I´m dropping these, it's unfortunate but since I still have a quite large sample it will do\n",
    "listened_features = listened_features.dropna(subset=[\"Id\"])\n",
    "listened_features = listened_features.reset_index(drop=True)\n",
    "\n",
    "\n",
    "# Save into this df so we only need to find features of last weeks songs\n",
    "# we only need id\n",
    "listened_all_time = pd.read_csv(\"listened_all_time.csv\")\n",
    "listened_all_time.append(listened_features[\"Id\"])\n",
    "listened_all_time.to_csv(r'listened_all_time.csv')\n",
    "\n",
    "\n",
    "listened_features.head()"
   ]
  },
  {
   "cell_type": "code",
   "execution_count": 26,
   "metadata": {
    "scrolled": true
   },
   "outputs": [
    {
     "name": "stdout",
     "output_type": "stream",
     "text": [
      "Cola - Robin Schulz Remix | Plays: 25\n",
      "Voices (feat. TZAR) | Plays: 22\n",
      "Nobody | Plays: 20\n",
      "On My Life | Plays: 19\n",
      "Speechless (feat. Erika Sirola) | Plays: 18\n",
      "Heaven | Plays: 18\n",
      "Feels Great (feat. Fetty Wap & CVBZ) - Anki Remix | Plays: 18\n",
      "Sad (feat. Afrojack) | Plays: 16\n",
      "Nights With You - Cheat Codes Remix | Plays: 15\n",
      "In Your Eyes (feat. Alida) | Plays: 14\n"
     ]
    }
   ],
   "source": [
    "# Adding number of plays and creating a new dataframe with my 10 most played songs\n",
    "listened_features[\"Plays\"] = listened_features[\"Name\"].apply(lambda x: (listened_features[\"Name\"] == x).sum())\n",
    "listened_features.drop_duplicates(subset =\"Name\",keep = \"first\", inplace = True) \n",
    "\n",
    "most_listened_songs = listened_features.sort_values(by=\"Plays\", ascending=False).iloc[0:10]\n",
    "most_listened_songs = most_listened_songs.reset_index(drop=True)   \n",
    "for k in range(len(most_listened_songs)):\n",
    "    print(most_listened_songs[\"Name\"][k],\"| Plays:\", most_listened_songs[\"Plays\"][k])\n",
    "\n"
   ]
  },
  {
   "cell_type": "code",
   "execution_count": 36,
   "metadata": {},
   "outputs": [
    {
     "name": "stdout",
     "output_type": "stream",
     "text": [
      "Number of potential songs:  753\n"
     ]
    }
   ],
   "source": [
    "# It shouldn't be possible for the program to recommend song which I've already heard, i.e. appers on \"listened\". Also duplicates are filtered away\n",
    "potential_songs = potential_songs[~potential_songs[\"Id\"].isin(listened_all_time[\"Id\"])]\n",
    "potential_songs.drop_duplicates(subset =\"Id\",keep = \"first\", inplace = True) \n",
    "potential_songs = potential_songs.reset_index(drop=True)   \n",
    "print(\"Number of potential songs: \", len(potential_songs))\n"
   ]
  },
  {
   "cell_type": "markdown",
   "metadata": {},
   "source": [
    "### 3.3 Summary Statistics"
   ]
  },
  {
   "cell_type": "code",
   "execution_count": 37,
   "metadata": {},
   "outputs": [
    {
     "data": {
      "image/png": "[encoded data removed]",
      "text/plain": [
       "<Figure size 864x216 with 3 Axes>"
      ]
     },
     "metadata": {
      "needs_background": "light"
     },
     "output_type": "display_data"
    },
    {
     "data": {
      "image/png": "[encoded data removed]",
      "text/plain": [
       "<Figure size 864x216 with 3 Axes>"
      ]
     },
     "metadata": {
      "needs_background": "light"
     },
     "output_type": "display_data"
    },
    {
     "data": {
      "image/png": "[encoded data removed]",
      "text/plain": [
       "<Figure size 864x216 with 3 Axes>"
      ]
     },
     "metadata": {
      "needs_background": "light"
     },
     "output_type": "display_data"
    },
    {
     "data": {
      "image/png": "[encoded data removed]",
      "text/plain": [
       "<Figure size 864x216 with 3 Axes>"
      ]
     },
     "metadata": {
      "needs_background": "light"
     },
     "output_type": "display_data"
    },
    {
     "data": {
      "image/png": "[encoded data removed]",
      "text/plain": [
       "<Figure size 864x216 with 3 Axes>"
      ]
     },
     "metadata": {
      "needs_background": "light"
     },
     "output_type": "display_data"
    },
    {
     "data": {
      "image/png": "[encoded data removed]",
      "text/plain": [
       "<Figure size 864x216 with 3 Axes>"
      ]
     },
     "metadata": {
      "needs_background": "light"
     },
     "output_type": "display_data"
    },
    {
     "data": {
      "image/png": "[encoded data removed]",
      "text/plain": [
       "<Figure size 864x216 with 3 Axes>"
      ]
     },
     "metadata": {
      "needs_background": "light"
     },
     "output_type": "display_data"
    },
    {
     "data": {
      "image/png": "[encoded data removed]",
      "text/plain": [
       "<Figure size 864x216 with 3 Axes>"
      ]
     },
     "metadata": {
      "needs_background": "light"
     },
     "output_type": "display_data"
    },
    {
     "data": {
      "image/png": "[encoded data removed]",
      "text/plain": [
       "<Figure size 864x216 with 3 Axes>"
      ]
     },
     "metadata": {
      "needs_background": "light"
     },
     "output_type": "display_data"
    },
    {
     "data": {
      "image/png": "[encoded data removed]",
      "text/plain": [
       "<Figure size 864x216 with 3 Axes>"
      ]
     },
     "metadata": {
      "needs_background": "light"
     },
     "output_type": "display_data"
    },
    {
     "data": {
      "image/png": "[encoded data removed]",
      "text/plain": [
       "<Figure size 864x216 with 3 Axes>"
      ]
     },
     "metadata": {
      "needs_background": "light"
     },
     "output_type": "display_data"
    },
    {
     "data": {
      "image/png": "[encoded data removed]",
      "text/plain": [
       "<Figure size 864x216 with 3 Axes>"
      ]
     },
     "metadata": {
      "needs_background": "light"
     },
     "output_type": "display_data"
    },
    {
     "data": {
      "image/png": "[encoded data removed]",
      "text/plain": [
       "<Figure size 864x216 with 3 Axes>"
      ]
     },
     "metadata": {
      "needs_background": "light"
     },
     "output_type": "display_data"
    },
    {
     "data": {
      "image/png": "[encoded data removed]",
      "text/plain": [
       "<Figure size 864x216 with 3 Axes>"
      ]
     },
     "metadata": {
      "needs_background": "light"
     },
     "output_type": "display_data"
    },
    {
     "data": {
      "image/png": "[encoded data removed]",
      "text/plain": [
       "<Figure size 864x216 with 3 Axes>"
      ]
     },
     "metadata": {
      "needs_background": "light"
     },
     "output_type": "display_data"
    }
   ],
   "source": [
    "# Feature Statistics\n",
    "fig, ax = plt.subplots(1,3,figsize=(12,3))\n",
    "sns.distplot(potential_songs[\"Popularity\"], color=\"g\", ax=ax[0], kde=False).set_title(\"Popularity (possible songs)\")\n",
    "sns.distplot(listened_features[\"Popularity\"], color=\"y\", ax=ax[1], kde=False).set_title(\"Popularity (listened songs)\")\n",
    "sns.distplot(most_listened_songs[\"Popularity\"], color=\"r\", ax=ax[2], kde=False).set_title(\"Popularity (10 most listened songs)\")\n",
    "plt.show()\n",
    "\n",
    "fig, ax = plt.subplots(1,3,figsize=(12,3))\n",
    "sns.distplot(potential_songs[\"acousticness\"], color=\"g\", ax=ax[0], kde=False).set_title(\"Acousticness\")\n",
    "sns.distplot(listened_features[\"acousticness\"], color=\"y\", ax=ax[1], kde=False).set_title(\"Acousticness\")\n",
    "sns.distplot(most_listened_songs[\"acousticness\"], color=\"r\", ax=ax[2], kde=False).set_title(\"Acousticness\")\n",
    "plt.show()\n",
    "\n",
    "fig, ax = plt.subplots(1,3,figsize=(12,3))\n",
    "sns.distplot(potential_songs[\"danceability\"], color=\"g\", ax=ax[0], kde=False).set_title(\"Danceability\")\n",
    "sns.distplot(listened_features[\"danceability\"], color=\"y\", ax=ax[1], kde=False).set_title(\"Danceability\")\n",
    "sns.distplot(most_listened_songs[\"danceability\"], color=\"r\", ax=ax[2], kde=False).set_title(\"Danceability\")\n",
    "plt.show()\n",
    "\n",
    "fig, ax = plt.subplots(1,3,figsize=(12,3))\n",
    "sns.distplot(potential_songs[\"duration_ms\"], color=\"g\", ax=ax[0], kde=False).set_title(\"Duration (ms)\")\n",
    "sns.distplot(listened_features[\"duration_ms\"], color=\"y\", ax=ax[1], kde=False).set_title(\"Duration (ms)\")\n",
    "sns.distplot(most_listened_songs[\"duration_ms\"], color=\"r\", ax=ax[2], kde=False).set_title(\"Duration (ms)\")\n",
    "plt.show()\n",
    "\n",
    "fig, ax = plt.subplots(1,3,figsize=(12,3))\n",
    "sns.distplot(potential_songs[\"energy\"], color=\"g\", ax=ax[0], kde=False).set_title(\"Energy\")\n",
    "sns.distplot(listened_features[\"energy\"], color=\"y\", ax=ax[1], kde=False).set_title(\"Energy\")\n",
    "sns.distplot(most_listened_songs[\"energy\"], color=\"r\", ax=ax[2], kde=False).set_title(\"Energy\")\n",
    "plt.show()\n",
    "\n",
    "fig, ax = plt.subplots(1,3,figsize=(12,3))\n",
    "sns.distplot(potential_songs[\"instrumentalness\"], color=\"g\", ax=ax[0], kde=False).set_title(\"Instrumentalness\")\n",
    "sns.distplot(listened_features[\"instrumentalness\"], color=\"y\", ax=ax[1], kde=False).set_title(\"Instrumentalness\")\n",
    "sns.distplot(most_listened_songs[\"instrumentalness\"], color=\"r\", ax=ax[2], kde=False).set_title(\"Instrumentalness\")\n",
    "plt.show()\n",
    "\n",
    "fig, ax = plt.subplots(1,3,figsize=(12,3))\n",
    "sns.distplot(potential_songs[\"key\"], color=\"g\", ax=ax[0], kde=False).set_title(\"Key\")\n",
    "sns.distplot(listened_features[\"key\"], color=\"y\", ax=ax[1], kde=False).set_title(\"Key\")\n",
    "sns.distplot(most_listened_songs[\"key\"], color=\"r\", ax=ax[2], kde=False).set_title(\"Key\")\n",
    "plt.show()\n",
    "\n",
    "fig, ax = plt.subplots(1,3,figsize=(12,3))\n",
    "sns.distplot(potential_songs[\"liveness\"], color=\"g\", ax=ax[0], kde=False).set_title(\"Liveness\")\n",
    "sns.distplot(listened_features[\"liveness\"], color=\"y\", ax=ax[1], kde=False).set_title(\"Liveness\")\n",
    "sns.distplot(most_listened_songs[\"liveness\"], color=\"r\", ax=ax[2], kde=False).set_title(\"Liveness\")\n",
    "plt.show()\n",
    "\n",
    "fig, ax = plt.subplots(1,3,figsize=(12,3))\n",
    "sns.distplot(potential_songs[\"loudness\"], color=\"g\", ax=ax[0], kde=False).set_title(\"Loudness\")\n",
    "sns.distplot(listened_features[\"loudness\"], color=\"y\", ax=ax[1], kde=False).set_title(\"Loudness\")\n",
    "sns.distplot(most_listened_songs[\"loudness\"], color=\"r\", ax=ax[2], kde=False).set_title(\"Loudness\")\n",
    "plt.show()\n",
    "\n",
    "fig, ax = plt.subplots(1,3,figsize=(12,3))\n",
    "sns.distplot(potential_songs[\"mode\"], color=\"g\", ax=ax[0], kde=False).set_title(\"Mode\")\n",
    "sns.distplot(listened_features[\"mode\"], color=\"y\", ax=ax[1], kde=False).set_title(\"Mode\")\n",
    "sns.distplot(most_listened_songs[\"mode\"], color=\"r\", ax=ax[2], kde=False).set_title(\"Mode\")\n",
    "plt.show()\n",
    "\n",
    "fig, ax = plt.subplots(1,3,figsize=(12,3))\n",
    "sns.distplot(potential_songs[\"speechiness\"], color=\"g\", ax=ax[0], kde=False).set_title(\"Speechiness\")\n",
    "sns.distplot(listened_features[\"speechiness\"], color=\"y\", ax=ax[1], kde=False).set_title(\"Speechiness\")\n",
    "sns.distplot(most_listened_songs[\"speechiness\"], color=\"r\", ax=ax[2], kde=False).set_title(\"Speechiness\")\n",
    "\n",
    "fig, ax = plt.subplots(1,3,figsize=(12,3))\n",
    "sns.distplot(potential_songs[\"tempo\"], color=\"g\", ax=ax[0], kde=False).set_title(\"Tempo\")\n",
    "sns.distplot(listened_features[\"tempo\"], color=\"y\", ax=ax[1], kde=False).set_title(\"Tempo\")\n",
    "sns.distplot(most_listened_songs[\"tempo\"], color=\"r\", ax=ax[2], kde=False).set_title(\"Tempo\")\n",
    "plt.show()\n",
    "\n",
    "fig, ax = plt.subplots(1,3,figsize=(12,3))\n",
    "sns.distplot(potential_songs[\"time_signature\"], color=\"g\", ax=ax[0], kde=False).set_title(\"Time Signature\")\n",
    "sns.distplot(listened_features[\"time_signature\"], color=\"y\", ax=ax[1], kde=False).set_title(\"Time Signature\")\n",
    "sns.distplot(most_listened_songs[\"time_signature\"], color=\"r\", ax=ax[2], kde=False).set_title(\"Time Signature\")\n",
    "plt.show()\n",
    "\n",
    "fig, ax = plt.subplots(1,3,figsize=(12,3))\n",
    "sns.distplot(potential_songs[\"valence\"], color=\"g\", ax=ax[0], kde=False).set_title(\"Valence\")\n",
    "sns.distplot(listened_features[\"valence\"], color=\"y\", ax=ax[1], kde=False).set_title(\"Valence\")\n",
    "sns.distplot(most_listened_songs[\"valence\"], color=\"r\", ax=ax[2], kde=False).set_title(\"Valence\")\n",
    "plt.show()\n",
    "\n",
    "fig, ax = plt.subplots(1,3,figsize=(12,3))\n",
    "sns.distplot(potential_songs[\"Artist_Popularity\"], color=\"g\", ax=ax[0], kde=False).set_title(\"Artist_Popularity\")\n",
    "sns.distplot(listened_features[\"Artist_Popularity\"], color=\"y\", ax=ax[1], kde=False).set_title(\"Artist_Popularity\")\n",
    "sns.distplot(most_listened_songs[\"Artist_Popularity\"], color=\"r\", ax=ax[2], kde=False).set_title(\"Artist_Popularity\")\n",
    "plt.show()"
   ]
  },
  {
   "cell_type": "code",
   "execution_count": 48,
   "metadata": {},
   "outputs": [],
   "source": [
    "# Genres\n",
    "genre_sum = genres(potential_songs, listened_features, most_listened_songs)\n",
    "\n",
    "top_genres = genre_sum.sort_values(by=\"Top\", ascending=False).loc[genre_sum[\"Top\"] != 0]\n",
    "genre_match_list = top_genres[\"Genre\"][0:7].values.tolist() \n"
   ]
  },
  {
   "cell_type": "code",
   "execution_count": 51,
   "metadata": {},
   "outputs": [
    {
     "name": "stdout",
     "output_type": "stream",
     "text": [
      "My most frequent listened genres, ordered by occurrence in most_listened_songs\n"
     ]
    },
    {
     "data": {
      "text/html": [
       "<div>\n",
       "<style scoped>\n",
       "    .dataframe tbody tr th:only-of-type {\n",
       "        vertical-align: middle;\n",
       "    }\n",
       "\n",
       "    .dataframe tbody tr th {\n",
       "        vertical-align: top;\n",
       "    }\n",
       "\n",
       "    .dataframe thead th {\n",
       "        text-align: right;\n",
       "    }\n",
       "</style>\n",
       "<table border=\"1\" class=\"dataframe\">\n",
       "  <thead>\n",
       "    <tr style=\"text-align: right;\">\n",
       "      <th></th>\n",
       "      <th>Genre</th>\n",
       "      <th>Potential</th>\n",
       "      <th>Listened</th>\n",
       "      <th>Top</th>\n",
       "    </tr>\n",
       "  </thead>\n",
       "  <tbody>\n",
       "    <tr>\n",
       "      <th>0</th>\n",
       "      <td>edm</td>\n",
       "      <td>337</td>\n",
       "      <td>158</td>\n",
       "      <td>9</td>\n",
       "    </tr>\n",
       "    <tr>\n",
       "      <th>1</th>\n",
       "      <td>tropical house</td>\n",
       "      <td>310</td>\n",
       "      <td>116</td>\n",
       "      <td>8</td>\n",
       "    </tr>\n",
       "    <tr>\n",
       "      <th>6</th>\n",
       "      <td>dance pop</td>\n",
       "      <td>118</td>\n",
       "      <td>72</td>\n",
       "      <td>7</td>\n",
       "    </tr>\n",
       "    <tr>\n",
       "      <th>7</th>\n",
       "      <td>pop</td>\n",
       "      <td>117</td>\n",
       "      <td>89</td>\n",
       "      <td>7</td>\n",
       "    </tr>\n",
       "    <tr>\n",
       "      <th>4</th>\n",
       "      <td>pop edm</td>\n",
       "      <td>163</td>\n",
       "      <td>54</td>\n",
       "      <td>6</td>\n",
       "    </tr>\n",
       "    <tr>\n",
       "      <th>3</th>\n",
       "      <td>electro house</td>\n",
       "      <td>219</td>\n",
       "      <td>85</td>\n",
       "      <td>5</td>\n",
       "    </tr>\n",
       "    <tr>\n",
       "      <th>39</th>\n",
       "      <td>electropop</td>\n",
       "      <td>28</td>\n",
       "      <td>38</td>\n",
       "      <td>4</td>\n",
       "    </tr>\n",
       "  </tbody>\n",
       "</table>\n",
       "</div>"
      ],
      "text/plain": [
       "             Genre  Potential  Listened  Top\n",
       "0              edm        337       158    9\n",
       "1   tropical house        310       116    8\n",
       "6        dance pop        118        72    7\n",
       "7              pop        117        89    7\n",
       "4          pop edm        163        54    6\n",
       "3    electro house        219        85    5\n",
       "39      electropop         28        38    4"
      ]
     },
     "execution_count": 51,
     "metadata": {},
     "output_type": "execute_result"
    }
   ],
   "source": [
    "print(\"My most frequent listened genres, ordered by occurrence in most_listened_songs\")\n",
    "top_genres[0:7]"
   ]
  },
  {
   "cell_type": "markdown",
   "metadata": {},
   "source": [
    "### 3.4 Feature Engineerning"
   ]
  },
  {
   "cell_type": "code",
   "execution_count": 52,
   "metadata": {},
   "outputs": [],
   "source": [
    "listened_features = listened_features.reset_index(drop=True)\n",
    "\n",
    "# top genre, my top 7 genres this week\n",
    "listened_features[\"genre_match\"] = 0\n",
    "for k in range(len(listened_features)):   \n",
    "    lista = listened_features[\"Genre\"][k]\n",
    "    if any(genre in lista for genre in genre_match_list):\n",
    "        listened_features[\"genre_match\"][k] = 1\n",
    "        \n",
    "potential_songs[\"genre_match\"] = 0\n",
    "for k in range(len(potential_songs)):\n",
    "    if len(potential_songs[\"Genre\"][k]) != 0:\n",
    "        lista =  potential_songs[\"Genre\"][k]\n",
    "        if any(genre in lista for genre in genre_match_list):\n",
    "            potential_songs[\"genre_match\"][k] = 1\n",
    "\n",
    "\n",
    "# top artist as a feature my top 10 most heavily listen artiist\n",
    "listened_features[\"Top_artist\"] = 0                    \n",
    "top_artist_list = top_artists[\"Artist\"].values.tolist()\n",
    "for k in range(len(listened_features)):\n",
    "    if any(artist == listened_features[\"Artist\"][k] for artist in top_artist_list):\n",
    "        listened_features[\"Top_artist\"][k] = 1\n",
    "\n",
    "potential_songs[\"Top_artist\"] = 0                    \n",
    "top_artist_list = top_artists[\"Artist\"].values.tolist()\n",
    "for k in range(len(potential_songs)):\n",
    "    if any(artist == potential_songs[\"Artist\"][k] for artist in top_artist_list):\n",
    "        potential_songs[\"Top_artist\"][k] = 1\n",
    "\n",
    "\n",
    "listened_features = listened_features.sort_values(by=\"Plays\", ascending=False)\n",
    "listened_features[\"Top_Song\"] = 0\n",
    "listened_features[\"Top_Song\"][0:10] = 1        \n",
    "        \n",
    "# save these for possible extension work\n",
    "listened_features.to_csv(r\"songs_features_week_32.csv\")\n"
   ]
  },
  {
   "cell_type": "markdown",
   "metadata": {},
   "source": [
    "### 3.5 Classification"
   ]
  },
  {
   "cell_type": "code",
   "execution_count": 112,
   "metadata": {},
   "outputs": [],
   "source": [
    "from sklearn.preprocessing import MinMaxScaler \n",
    "from sklearn.decomposition import PCA\n",
    "\n",
    "from imblearn.over_sampling import SMOTE\n",
    "from sklearn.model_selection import train_test_split, RandomizedSearchCV, GridSearchCV\n",
    "\n",
    "from sklearn.ensemble import RandomForestClassifier\n",
    "from sklearn.neighbors import KNeighborsClassifier\n",
    "\n",
    "\n",
    "from sklearn.metrics import accuracy_score ,roc_auc_score, f1_score, confusion_matrix\n"
   ]
  },
  {
   "cell_type": "code",
   "execution_count": 55,
   "metadata": {},
   "outputs": [
    {
     "data": {
      "text/plain": [
       "(270, 14)"
      ]
     },
     "execution_count": 55,
     "metadata": {},
     "output_type": "execute_result"
    }
   ],
   "source": [
    "data = pd.read_csv(\"songs_features_week_32.csv\")\n",
    "data = data.drop(columns=\"Unnamed: 0\")\n",
    "\n",
    "# Dropping the least interesting columns and the ones that are completely arbitrary columnerna. Also dropping the top_artist column since it will have a too strong influence on the classification and lead to that only these songs get recommended\n",
    "data = data.drop(columns=[\"Name\",\"Id\",\"key\",\"mode\",\"time_signature\",\"Artist\",\"Genre\",\"Plays\",\"Top_artist\"], axis = 1)\n",
    "data.shape"
   ]
  },
  {
   "cell_type": "code",
   "execution_count": 56,
   "metadata": {
    "scrolled": true
   },
   "outputs": [
    {
     "data": {
      "text/plain": [
       "(14.0, 0.0)"
      ]
     },
     "execution_count": 56,
     "metadata": {},
     "output_type": "execute_result"
    },
    {
     "data": {
      "image/png": "[encoded data removed]",
      "text/plain": [
       "<Figure size 1152x1152 with 2 Axes>"
      ]
     },
     "metadata": {
      "needs_background": "light"
     },
     "output_type": "display_data"
    }
   ],
   "source": [
    "# Correlation matrix for feature selection\n",
    "plt.figure(figsize=(16,16))\n",
    "corr = sns.heatmap(np.round(data.corr(),2),annot=True, center=0,linewidths=.5)\n",
    "\n",
    "# There are strange cut offs for the highest/lowest rows, fixed with the following \n",
    "bottom, top = corr.get_ylim()\n",
    "corr.set_ylim(bottom + 0.5, top - 0.5)"
   ]
  },
  {
   "cell_type": "code",
   "execution_count": 57,
   "metadata": {},
   "outputs": [],
   "source": [
    "# In preperation for the models I scale all variables\n",
    "scaler = MinMaxScaler()\n",
    "\n",
    "data_scaled = pd.DataFrame(scaler.fit_transform(data),columns = data.columns)\n",
    "\n",
    "data_scaled_x = data_scaled.drop(columns=[\"Top_Song\"])"
   ]
  },
  {
   "cell_type": "code",
   "execution_count": 58,
   "metadata": {},
   "outputs": [
    {
     "data": {
      "image/png": "[encoded data removed]",
      "text/plain": [
       "<Figure size 720x432 with 1 Axes>"
      ]
     },
     "metadata": {
      "needs_background": "light"
     },
     "output_type": "display_data"
    }
   ],
   "source": [
    "# In trying to reduce complexity of the models I want to use fewer variables. By constructing PCAs I want to see how much of the varience is explained by variables used.  \n",
    "pca=PCA()\n",
    "\n",
    "pca.fit(data_scaled_x)\n",
    "data_pca=pca.transform(data_scaled_x)\n",
    "el=np.cumsum(pca.explained_variance_ratio_)\n",
    "\n",
    "plt.figure(figsize=(10, 6))\n",
    "ax = sns.scatterplot(data=el,color=sns.color_palette(\"Set2\")[0])\n",
    "ax.set(xlabel='Dimensions', ylabel='Explained Variance Ratio')\n",
    "plt.title(\"PCA-transformed cumulated variance explained\")\n",
    "plt.show()\n"
   ]
  },
  {
   "cell_type": "markdown",
   "metadata": {},
   "source": [
    "It turns out we want to use as many columns as possible. My initial idea was to choose the five or so variables with the highest correlation with \"Top_Song\" but that would give a less clear picture. Also all varibales have quite similar magnitude of correlation so the decion of which to choose could easily become misleading.\n"
   ]
  },
  {
   "cell_type": "code",
   "execution_count": 59,
   "metadata": {},
   "outputs": [
    {
     "data": {
      "text/plain": [
       "0.0    260\n",
       "1.0     10\n",
       "Name: Top_Song, dtype: int64"
      ]
     },
     "execution_count": 59,
     "metadata": {},
     "output_type": "execute_result"
    }
   ],
   "source": [
    "# Unbalanced dataset\n",
    "\n",
    "data_y = data_scaled[\"Top_Song\"]\n",
    "data_y.value_counts()"
   ]
  },
  {
   "cell_type": "code",
   "execution_count": 60,
   "metadata": {},
   "outputs": [],
   "source": [
    "# This would create problems for the fitting of the prediction model. Becouse of this I'm oversampling the Top Songs using SMOTE \n",
    "oversample = SMOTE()\n",
    "smote_x, smote_y = oversample.fit_resample(data_scaled_x, data_y)\n"
   ]
  },
  {
   "cell_type": "code",
   "execution_count": 61,
   "metadata": {},
   "outputs": [],
   "source": [
    "# Splitting the dataset into 70/30 train/validation set\n",
    "x_train_70, x_test_30, y_train_70, y_test_30 = train_test_split(smote_x, smote_y, test_size = 0.30, random_state = 42)\n"
   ]
  },
  {
   "cell_type": "markdown",
   "metadata": {},
   "source": [
    "**Random Forrest**"
   ]
  },
  {
   "cell_type": "code",
   "execution_count": 62,
   "metadata": {},
   "outputs": [],
   "source": [
    "# Hyperparameter tuning for RandomForest\n",
    "# Create a parameter grid to sample from during fitting\n",
    "\n",
    "# Parameters:\n",
    "\n",
    "# Number of trees in random forest\n",
    "n_estimators = [int(x) for x in np.linspace(start = 200, stop = 2000, num = 10)]\n",
    "\n",
    "# Number of features to consider at every split\n",
    "max_features = ['auto', 'sqrt']\n",
    "\n",
    "# Maximum number of levels in tree\n",
    "max_depth = [int(x) for x in np.linspace(10, 110, num = 11)]\n",
    "max_depth.append(None)\n",
    "\n",
    "# Minimum number of samples required to split a node\n",
    "min_samples_split = [2, 5, 10]\n",
    "\n",
    "# Minimum number of samples required at each leaf node\n",
    "min_samples_leaf = [1, 2, 4]\n",
    "\n",
    "# Method of selecting samples for training each tree\n",
    "bootstrap = [True, False]\n",
    "\n",
    "# Create the random grid\n",
    "random_grid = {'n_estimators': n_estimators,\n",
    "               'max_features': max_features,\n",
    "               'max_depth': max_depth,\n",
    "               'min_samples_split': min_samples_split,\n",
    "               'min_samples_leaf': min_samples_leaf,\n",
    "               'bootstrap': bootstrap}\n"
   ]
  },
  {
   "cell_type": "code",
   "execution_count": 63,
   "metadata": {},
   "outputs": [
    {
     "name": "stdout",
     "output_type": "stream",
     "text": [
      "Fitting 3 folds for each of 100 candidates, totalling 300 fits\n"
     ]
    },
    {
     "name": "stderr",
     "output_type": "stream",
     "text": [
      "[Parallel(n_jobs=-1)]: Using backend LokyBackend with 4 concurrent workers.\n",
      "[Parallel(n_jobs=-1)]: Done  33 tasks      | elapsed:   34.7s\n",
      "[Parallel(n_jobs=-1)]: Done 154 tasks      | elapsed:  2.4min\n",
      "[Parallel(n_jobs=-1)]: Done 300 out of 300 | elapsed:  5.2min finished\n"
     ]
    },
    {
     "data": {
      "text/plain": [
       "RandomizedSearchCV(cv=3, estimator=RandomForestClassifier(), n_iter=100,\n",
       "                   n_jobs=-1,\n",
       "                   param_distributions={'bootstrap': [True, False],\n",
       "                                        'max_depth': [10, 20, 30, 40, 50, 60,\n",
       "                                                      70, 80, 90, 100, 110,\n",
       "                                                      None],\n",
       "                                        'max_features': ['auto', 'sqrt'],\n",
       "                                        'min_samples_leaf': [1, 2, 4],\n",
       "                                        'min_samples_split': [2, 5, 10],\n",
       "                                        'n_estimators': [200, 400, 600, 800,\n",
       "                                                         1000, 1200, 1400, 1600,\n",
       "                                                         1800, 2000]},\n",
       "                   random_state=42, verbose=2)"
      ]
     },
     "execution_count": 63,
     "metadata": {},
     "output_type": "execute_result"
    }
   ],
   "source": [
    "# Use the random grid to narrow down the possible best hyperparameters\n",
    "rf = RandomForestClassifier()\n",
    "\n",
    "# Random search of parameters, using 3 fold cross validation, \n",
    "# search across 100 different combinations, and use all available cores\n",
    "rf_random = RandomizedSearchCV(estimator = rf, param_distributions = random_grid, n_iter = 100, cv = 3, verbose=2, random_state=42, n_jobs = -1)\n",
    "\n",
    "# Fit the random search model\n",
    "rf_random.fit(x_train_70, y_train_70)\n"
   ]
  },
  {
   "cell_type": "code",
   "execution_count": 64,
   "metadata": {},
   "outputs": [
    {
     "data": {
      "text/plain": [
       "{'n_estimators': 1000,\n",
       " 'min_samples_split': 2,\n",
       " 'min_samples_leaf': 1,\n",
       " 'max_features': 'sqrt',\n",
       " 'max_depth': 20,\n",
       " 'bootstrap': True}"
      ]
     },
     "execution_count": 64,
     "metadata": {},
     "output_type": "execute_result"
    }
   ],
   "source": [
    "# Found best parameters\n",
    "rf_random.best_params_\n"
   ]
  },
  {
   "cell_type": "code",
   "execution_count": 65,
   "metadata": {},
   "outputs": [
    {
     "name": "stdout",
     "output_type": "stream",
     "text": [
      "Fitting 3 folds for each of 108 candidates, totalling 324 fits\n"
     ]
    },
    {
     "name": "stderr",
     "output_type": "stream",
     "text": [
      "[Parallel(n_jobs=-1)]: Using backend LokyBackend with 4 concurrent workers.\n",
      "[Parallel(n_jobs=-1)]: Done  33 tasks      | elapsed:   25.4s\n",
      "[Parallel(n_jobs=-1)]: Done 154 tasks      | elapsed:  1.7min\n",
      "[Parallel(n_jobs=-1)]: Done 324 out of 324 | elapsed:  3.5min finished\n"
     ]
    },
    {
     "data": {
      "text/plain": [
       "{'bootstrap': True,\n",
       " 'max_depth': 10,\n",
       " 'max_features': 2,\n",
       " 'min_samples_leaf': 1,\n",
       " 'min_samples_split': 2,\n",
       " 'n_estimators': 800}"
      ]
     },
     "execution_count": 65,
     "metadata": {},
     "output_type": "execute_result"
    }
   ],
   "source": [
    "# Find the specific best parameters by searching every combination close to our earlier findings\n",
    "\n",
    "# Create a new parameter grid based on the results of random search \n",
    "param_grid = {\n",
    "    'bootstrap': [True],\n",
    "    'max_depth': [10,20,30],\n",
    "    'max_features': [2, 3],\n",
    "    'min_samples_leaf': [1, 2],\n",
    "    'min_samples_split': [1, 2, 3],\n",
    "    'n_estimators': [800, 1000, 1200]\n",
    "}\n",
    "\n",
    "# Create a based model\n",
    "rf = RandomForestClassifier()\n",
    "# Instantiate the grid search model\n",
    "grid_search = GridSearchCV(estimator = rf, param_grid = param_grid, \n",
    "                          cv = 3, n_jobs = -1, verbose = 2)\n",
    "\n",
    "grid_search.fit(x_train_70, y_train_70)\n",
    "\n",
    "grid_search.best_params_\n"
   ]
  },
  {
   "cell_type": "code",
   "execution_count": 109,
   "metadata": {},
   "outputs": [
    {
     "name": "stdout",
     "output_type": "stream",
     "text": [
      "Random Forest Model Validation result:\n",
      "\n",
      "Accuracy Score: 0.9871794871794872\n",
      "\n",
      " F1 Score: 0.9875\n",
      " \n",
      " AUC Score: 0.987012987012987\n"
     ]
    },
    {
     "data": {
      "image/png": "[encoded data removed]",
      "text/plain": [
       "<Figure size 432x360 with 2 Axes>"
      ]
     },
     "metadata": {
      "needs_background": "light"
     },
     "output_type": "display_data"
    }
   ],
   "source": [
    "# Validation of RF \n",
    "# Using F1, accuracy, and AUC\n",
    "\n",
    "rf_best = RandomForestClassifier(n_estimators = 800, min_samples_split = 2,\n",
    "                                 min_samples_leaf = 1, max_features = 2,\n",
    "                                 max_depth = 10, bootstrap = False)\n",
    "\n",
    "rf_best.fit(x_train_70, y_train_70)\n",
    "rf_pred_30_best = rf_best.predict(x_test_30)\n",
    "\n",
    "print('Random Forest Model Validation result:\\n')\n",
    "print_confusion_matrix(confusion_matrix(y_test_30,rf_pred_30_best,labels=[1,0]),[\"Top Song: Yes\",\"Top Song: No\"])\n",
    "print('Accuracy Score: {}\\n\\n F1 Score: {}\\n \\n AUC Score: {}'\n",
    "      .format(accuracy_score(y_test_30,rf_pred_30_best), f1_score(y_test_30,rf_pred_30_best), roc_auc_score(y_test_30,rf_pred_30_best)))\n"
   ]
  },
  {
   "cell_type": "code",
   "execution_count": 110,
   "metadata": {},
   "outputs": [
    {
     "name": "stdout",
     "output_type": "stream",
     "text": [
      "Base Random Forest Model Validation result:\n",
      "\n",
      "Accuracy Score: 0.9871794871794872\n",
      "\n",
      " F1 Score: 0.9875\n",
      " \n",
      " AUC Score: 0.987012987012987\n"
     ]
    },
    {
     "data": {
      "image/png": "[encoded data removed]",
      "text/plain": [
       "<Figure size 432x360 with 2 Axes>"
      ]
     },
     "metadata": {
      "needs_background": "light"
     },
     "output_type": "display_data"
    }
   ],
   "source": [
    "# Comparison with the base classifier\n",
    "rf_base = RandomForestClassifier()\n",
    "\n",
    "\n",
    "rf_base.fit(x_train_70, y_train_70)\n",
    "rf_pred_30_base = rf_base.predict(x_test_30)\n",
    "\n",
    "print('Base Random Forest Model Validation result:\\n')\n",
    "print_confusion_matrix(confusion_matrix(y_test_30,rf_pred_30_base,labels=[1,0]),[\"Top Song: Yes\",\"Top Song: No\"])\n",
    "print('Accuracy Score: {}\\n\\n F1 Score: {}\\n \\n AUC Score: {}'\n",
    "      .format(accuracy_score(y_test_30,rf_pred_30_base), f1_score(y_test_30,rf_pred_30_base), roc_auc_score(y_test_30,rf_pred_30_base)))"
   ]
  },
  {
   "cell_type": "markdown",
   "metadata": {},
   "source": [
    "The base model turns out to be as good as the optimized model. Somewhat unfortunate the optimization didn't have an impact but at the same time they recive very good scores. In prior weeks I have observed similarly very good scores of the base model but always a small improvement in the optimized. "
   ]
  },
  {
   "cell_type": "markdown",
   "metadata": {},
   "source": [
    "**K-Nearest Neighbor**"
   ]
  },
  {
   "cell_type": "code",
   "execution_count": 116,
   "metadata": {},
   "outputs": [
    {
     "name": "stdout",
     "output_type": "stream",
     "text": [
      "Fitting 3 folds for each of 100 candidates, totalling 300 fits\n"
     ]
    },
    {
     "name": "stderr",
     "output_type": "stream",
     "text": [
      "[Parallel(n_jobs=-1)]: Using backend LokyBackend with 4 concurrent workers.\n",
      "[Parallel(n_jobs=-1)]: Done  39 tasks      | elapsed:    2.3s\n",
      "[Parallel(n_jobs=-1)]: Done 293 out of 300 | elapsed:    4.2s remaining:    0.1s\n",
      "[Parallel(n_jobs=-1)]: Done 300 out of 300 | elapsed:    4.2s finished\n"
     ]
    },
    {
     "data": {
      "text/plain": [
       "RandomizedSearchCV(cv=3, estimator=KNeighborsClassifier(), n_iter=100,\n",
       "                   n_jobs=-1,\n",
       "                   param_distributions={'leaf_size': [1, 2, 3, 4, 5, 6, 7, 8, 9,\n",
       "                                                      10, 11, 12, 13, 14, 15,\n",
       "                                                      16, 17, 18, 19, 20, 21,\n",
       "                                                      22, 23, 24, 25, 26, 27,\n",
       "                                                      28, 29, 30, ...],\n",
       "                                        'n_neighbors': [1, 2, 3, 4, 5, 6, 7, 8,\n",
       "                                                        9, 10, 11, 12, 13, 14,\n",
       "                                                        15, 16, 17, 18, 19, 20,\n",
       "                                                        21, 22, 23, 24, 25, 26,\n",
       "                                                        27, 28, 29],\n",
       "                                        'p': [1, 2, 3]},\n",
       "                   random_state=42, verbose=2)"
      ]
     },
     "execution_count": 116,
     "metadata": {},
     "output_type": "execute_result"
    }
   ],
   "source": [
    "# Hyperparameter tuning\n",
    "\n",
    "# Number of neighbors k\n",
    "n_neighbors = list(range(1,30))\n",
    "\n",
    "# Leaf size\n",
    "leaf_size = list(range(1,50))\n",
    "\n",
    "# Power of for calculating the Minkowski distance\n",
    "p = list(range(1,4))\n",
    "\n",
    "random_grid = {\n",
    "    \"n_neighbors\": n_neighbors,\n",
    "    \"leaf_size\": leaf_size,\n",
    "    \"p\": p\n",
    "}\n",
    "\n",
    "\n",
    "knn = KNeighborsClassifier()\n",
    "\n",
    "knn_random = RandomizedSearchCV(estimator = knn, param_distributions = random_grid, n_iter = 100, cv = 3, verbose=2, random_state=42, n_jobs = -1)\n",
    "\n",
    "knn_random.fit(x_train_70, y_train_70)\n"
   ]
  },
  {
   "cell_type": "code",
   "execution_count": 118,
   "metadata": {},
   "outputs": [
    {
     "data": {
      "text/plain": [
       "{'p': 1, 'n_neighbors': 2, 'leaf_size': 29}"
      ]
     },
     "execution_count": 118,
     "metadata": {},
     "output_type": "execute_result"
    }
   ],
   "source": [
    "knn_random.best_params_"
   ]
  },
  {
   "cell_type": "code",
   "execution_count": 119,
   "metadata": {},
   "outputs": [
    {
     "name": "stdout",
     "output_type": "stream",
     "text": [
      "Fitting 3 folds for each of 50 candidates, totalling 150 fits\n"
     ]
    },
    {
     "name": "stderr",
     "output_type": "stream",
     "text": [
      "[Parallel(n_jobs=-1)]: Using backend LokyBackend with 4 concurrent workers.\n",
      "[Parallel(n_jobs=-1)]: Done  34 tasks      | elapsed:    4.4s\n",
      "[Parallel(n_jobs=-1)]: Done 150 out of 150 | elapsed:    5.7s finished\n"
     ]
    },
    {
     "data": {
      "text/plain": [
       "{'leaf_size': 27, 'n_neighbors': 2, 'p': 1}"
      ]
     },
     "execution_count": 119,
     "metadata": {},
     "output_type": "execute_result"
    }
   ],
   "source": [
    "# Create a new parameter grid based on the results of random search \n",
    "\n",
    "param_grid = {\n",
    "    \"n_neighbors\": [1,2,3,4,5],\n",
    "    \"leaf_size\": [27,28,29,30,31],\n",
    "    \"p\": [1,2]\n",
    "}\n",
    "\n",
    "# Instantiate the grid search model\n",
    "grid_search = GridSearchCV(estimator = knn, param_grid = param_grid, \n",
    "                          cv = 3, n_jobs = -1, verbose = 2)\n",
    "\n",
    "grid_search.fit(x_train_70, y_train_70)\n",
    "\n",
    "grid_search.best_params_"
   ]
  },
  {
   "cell_type": "code",
   "execution_count": 121,
   "metadata": {},
   "outputs": [
    {
     "name": "stdout",
     "output_type": "stream",
     "text": [
      "Random Forest Model Validation result:\n",
      "\n",
      "Accuracy Score: 0.9487179487179487\n",
      "\n",
      " F1 Score: 0.9518072289156626\n",
      " \n",
      " AUC Score: 0.948051948051948\n"
     ]
    },
    {
     "data": {
      "image/png": "[encoded data removed]",
      "text/plain": [
       "<Figure size 432x360 with 2 Axes>"
      ]
     },
     "metadata": {
      "needs_background": "light"
     },
     "output_type": "display_data"
    }
   ],
   "source": [
    "# Validation of KNN \n",
    "\n",
    "knn_best = KNeighborsClassifier(leaf_size = 27, n_neighbors = 2, p = 1)\n",
    "\n",
    "knn_best.fit(x_train_70, y_train_70)\n",
    "knn_pred_30_best = knn_best.predict(x_test_30)\n",
    "\n",
    "print('Random Forest Model Validation result:\\n')\n",
    "print_confusion_matrix(confusion_matrix(y_test_30,knn_pred_30_best,labels=[1,0]),[\"Top Song: Yes\",\"Top Song: No\"])\n",
    "print('Accuracy Score: {}\\n\\n F1 Score: {}\\n \\n AUC Score: {}'\n",
    "      .format(accuracy_score(y_test_30,knn_pred_30_best), f1_score(y_test_30,knn_pred_30_best), roc_auc_score(y_test_30,knn_pred_30_best)))\n"
   ]
  },
  {
   "cell_type": "code",
   "execution_count": 122,
   "metadata": {},
   "outputs": [
    {
     "name": "stdout",
     "output_type": "stream",
     "text": [
      "Base Random Forest Model Validation result:\n",
      "\n",
      "Accuracy Score: 0.8525641025641025\n",
      "\n",
      " F1 Score: 0.8729281767955802\n",
      " \n",
      " AUC Score: 0.8506493506493507\n"
     ]
    },
    {
     "data": {
      "image/png": "[encoded data removed]",
      "text/plain": [
       "<Figure size 432x360 with 2 Axes>"
      ]
     },
     "metadata": {
      "needs_background": "light"
     },
     "output_type": "display_data"
    }
   ],
   "source": [
    "# Comparison with the base classifier\n",
    "knn_base = KNeighborsClassifier()\n",
    "\n",
    "knn_base.fit(x_train_70, y_train_70)\n",
    "knn_pred_30_base = knn_base.predict(x_test_30)\n",
    "\n",
    "print('Base Random Forest Model Validation result:\\n')\n",
    "print_confusion_matrix(confusion_matrix(y_test_30,knn_pred_30_base,labels=[1,0]),[\"Top Song: Yes\",\"Top Song: No\"])\n",
    "print('Accuracy Score: {}\\n\\n F1 Score: {}\\n \\n AUC Score: {}'\n",
    "      .format(accuracy_score(y_test_30,knn_pred_30_base), f1_score(y_test_30,knn_pred_30_base), roc_auc_score(y_test_30,knn_pred_30_base)))"
   ]
  },
  {
   "cell_type": "markdown",
   "metadata": {},
   "source": [
    "The random forest have the by far best results, therefore I choose it as my classifer for recommending songs."
   ]
  },
  {
   "cell_type": "code",
   "execution_count": 123,
   "metadata": {},
   "outputs": [
    {
     "data": {
      "text/html": [
       "<div>\n",
       "<style scoped>\n",
       "    .dataframe tbody tr th:only-of-type {\n",
       "        vertical-align: middle;\n",
       "    }\n",
       "\n",
       "    .dataframe tbody tr th {\n",
       "        vertical-align: top;\n",
       "    }\n",
       "\n",
       "    .dataframe thead th {\n",
       "        text-align: right;\n",
       "    }\n",
       "</style>\n",
       "<table border=\"1\" class=\"dataframe\">\n",
       "  <thead>\n",
       "    <tr style=\"text-align: right;\">\n",
       "      <th></th>\n",
       "      <th>Name</th>\n",
       "      <th>id</th>\n",
       "      <th>Artist</th>\n",
       "    </tr>\n",
       "  </thead>\n",
       "  <tbody>\n",
       "    <tr>\n",
       "      <th>0</th>\n",
       "      <td>Bloodshot</td>\n",
       "      <td>0RjsxObqclok5pyah4SPoh</td>\n",
       "      <td>Mike Perry</td>\n",
       "    </tr>\n",
       "    <tr>\n",
       "      <th>1</th>\n",
       "      <td>Somebody</td>\n",
       "      <td>6iMoJ3UdrO2ZjzzcaN8Eom</td>\n",
       "      <td>Sigala</td>\n",
       "    </tr>\n",
       "    <tr>\n",
       "      <th>2</th>\n",
       "      <td>Nobody Compares To You (feat. Katie Pearlman)</td>\n",
       "      <td>17ejRbr6B8l9zdqgCZsn4m</td>\n",
       "      <td>Gryffin</td>\n",
       "    </tr>\n",
       "    <tr>\n",
       "      <th>3</th>\n",
       "      <td>Just Friends</td>\n",
       "      <td>3NjyrsDr4qS0L424H4muQd</td>\n",
       "      <td>Hayden James</td>\n",
       "    </tr>\n",
       "    <tr>\n",
       "      <th>4</th>\n",
       "      <td>How Deep Is Your Love</td>\n",
       "      <td>22mek4IiqubGD9ctzxc69s</td>\n",
       "      <td>Disciples</td>\n",
       "    </tr>\n",
       "    <tr>\n",
       "      <th>5</th>\n",
       "      <td>This Ole Boy</td>\n",
       "      <td>29rfPTA47K0xyl1Pnf1YBw</td>\n",
       "      <td>Craig Morgan</td>\n",
       "    </tr>\n",
       "  </tbody>\n",
       "</table>\n",
       "</div>"
      ],
      "text/plain": [
       "                                            Name                      id  \\\n",
       "0                                      Bloodshot  0RjsxObqclok5pyah4SPoh   \n",
       "1                                       Somebody  6iMoJ3UdrO2ZjzzcaN8Eom   \n",
       "2  Nobody Compares To You (feat. Katie Pearlman)  17ejRbr6B8l9zdqgCZsn4m   \n",
       "3                                   Just Friends  3NjyrsDr4qS0L424H4muQd   \n",
       "4                          How Deep Is Your Love  22mek4IiqubGD9ctzxc69s   \n",
       "5                                   This Ole Boy  29rfPTA47K0xyl1Pnf1YBw   \n",
       "\n",
       "         Artist  \n",
       "0    Mike Perry  \n",
       "1        Sigala  \n",
       "2       Gryffin  \n",
       "3  Hayden James  \n",
       "4     Disciples  \n",
       "5  Craig Morgan  "
      ]
     },
     "execution_count": 123,
     "metadata": {},
     "output_type": "execute_result"
    }
   ],
   "source": [
    "X_test = potential_songs.drop(columns=['Name', 'Id',\n",
    "       'key','mode', 'time_signature',\"Genre\",\"Artist\",\"Top_artist\"]).astype(float)\n",
    "    \n",
    "X_test = pd.DataFrame(scaler.fit_transform(X_test),columns = X_test.columns)\n",
    "\n",
    "Y_pred_RF = rf_best.predict(X_test)\n",
    "\n",
    "\n",
    "recommended_songs = pd.DataFrame(index=potential_songs.index)\n",
    "recommended_songs[\"Name\"] = potential_songs[\"Name\"]\n",
    "recommended_songs[\"id\"] = potential_songs[\"Id\"]\n",
    "recommended_songs[\"Artist\"] = potential_songs[\"Artist\"]\n",
    "recommended_songs[\"RF_rec\"] = Y_pred_RF\n",
    "recommended_songs = recommended_songs[recommended_songs.RF_rec != 0]\n",
    "recommended_songs = recommended_songs.reset_index(drop=True)\n",
    "recommended_songs = recommended_songs.drop(columns=[\"RF_rec\"])\n",
    "recommended_songs"
   ]
  },
  {
   "cell_type": "code",
   "execution_count": 124,
   "metadata": {},
   "outputs": [],
   "source": [
    "# To CSV for possible future work, overall I'm quite happy with these recomendations\n",
    "recommended_songs.to_csv(r'reco_week32.csv')\n"
   ]
  },
  {
   "cell_type": "code",
   "execution_count": null,
   "metadata": {},
   "outputs": [],
   "source": []
  }
 ],
 "metadata": {
  "kernelspec": {
   "display_name": "Python 3",
   "language": "python",
   "name": "python3"
  },
  "language_info": {
   "codemirror_mode": {
    "name": "ipython",
    "version": 3
   },
   "file_extension": ".py",
   "mimetype": "text/x-python",
   "name": "python",
   "nbconvert_exporter": "python",
   "pygments_lexer": "ipython3",
   "version": "3.7.4"
  }
 },
 "nbformat": 4,
 "nbformat_minor": 2
}
